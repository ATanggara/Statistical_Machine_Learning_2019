{
 "cells": [
  {
   "cell_type": "markdown",
   "metadata": {},
   "source": [
    "# Regression"
   ]
  },
  {
   "cell_type": "markdown",
   "metadata": {},
   "source": [
    "###### COMP4670/8600 - Introduction to Statistical Machine Learning - Week 2"
   ]
  },
  {
   "cell_type": "markdown",
   "metadata": {},
   "source": [
    "In this lab, we will use linear regression to predict the value of a home and explore the impact of regularisation.\n",
    "\n",
    "### Assumed knowledge\n",
    "- Maximum likelihood solution to a linear regression problem, with and without regularisation (week 2 lectures)\n",
    "- Matrix calculations in numpy (week 1 lab and precourse material)\n",
    "- Theory behind regularisation (week 2 lectures)\n",
    "\n",
    "### After this lab, you should be comfortable with:\n",
    "- Practical linear regression problems\n",
    "- Picking an appropriate regularisation parameter for a given problem"
   ]
  },
  {
   "cell_type": "markdown",
   "metadata": {},
   "source": [
    "$\\newcommand{\\trace}[1]{\\operatorname{tr}\\left\\{#1\\right\\}}$\n",
    "$\\newcommand{\\Norm}[1]{\\lVert#1\\rVert}$\n",
    "$\\newcommand{\\RR}{\\mathbb{R}}$\n",
    "$\\newcommand{\\inner}[2]{\\langle #1, #2 \\rangle}$\n",
    "$\\newcommand{\\DD}{\\mathscr{D}}$\n",
    "$\\newcommand{\\grad}[1]{\\operatorname{grad}#1}$\n",
    "$\\DeclareMathOperator*{\\argmin}{arg\\,min}$\n",
    "\n",
    "Setting up the environment"
   ]
  },
  {
   "cell_type": "code",
   "execution_count": 1,
   "metadata": {},
   "outputs": [],
   "source": [
    "import matplotlib.pyplot as plt\n",
    "import numpy as np\n",
    "from numpy.linalg import inv\n",
    "\n",
    "%matplotlib inline"
   ]
  },
  {
   "cell_type": "markdown",
   "metadata": {},
   "source": [
    "## The data set\n",
    "\n",
    "\n",
    "We will use [a dataset](https://machlearn.gitlab.io/sml2019/tutorials/02-dataset.csv) on the price of housing in Boston (see [description](https://www.cs.toronto.edu/~delve/data/boston/bostonDetail.html)). \n",
    "We aim to predict the value of a home from other factors.\n",
    "In this dataset, each row is one house. The first entry is the value of the house, which has been normalised to be in the range $[-1, 1]$, and we will predict of the remaining values. The column labels are\n",
    "\n",
    "```'medv', 'crim', 'zn', 'indus', 'chas', 'nox', 'rm', 'age', 'dis', 'rad', 'tax', 'ptratio', 'b', 'lstat'```\n",
    "\n",
    "Download the dataset. Read in the data using ```np.loadtxt``` with the optional argument ```delimiter=','```, as our data is comma separated rather than space separated. Remove the column containing the binary variable ```'chas'```."
   ]
  },
  {
   "cell_type": "code",
   "execution_count": 2,
   "metadata": {},
   "outputs": [
    {
     "name": "stdout",
     "output_type": "stream",
     "text": [
      "(506, 1)\n",
      "(506,)\n"
     ]
    }
   ],
   "source": [
    "dataset = np.loadtxt(\"02-dataset.csv\", delimiter=',')\n",
    "\n",
    "# remove 'chas' feature from dataset\n",
    "d = np.empty(shape=(dataset.shape[0], dataset.shape[1]-1))\n",
    "d[:, :4] = dataset[:, :4]\n",
    "d[:, 4:] = dataset[:, 5:]\n",
    "dataset = d\n",
    "\n",
    "# normalize target variables\n",
    "norm_target = np.reshape(dataset[:, 0], (dataset.shape[0], 1))\n",
    "target_min = min(norm_target)\n",
    "target_max = max(norm_target)\n",
    "norm_target = (norm_target - (target_min*np.ones(norm_target.shape))) / (target_max-target_min)\n",
    "dataset[:,0] = np.reshape(norm_target, (dataset.shape[0], ))\n",
    "\n",
    "print(norm_target.shape)\n",
    "print(dataset[:,0].shape)"
   ]
  },
  {
   "cell_type": "markdown",
   "metadata": {},
   "source": [
    "### Note\n",
    "\n",
    "Normalization formula:\n",
    "\\begin{equation*}\n",
    "    \\frac{\\text{initial value} - \\text{min value}}{\\text{max value} - \\text{min value}}\n",
    "\\end{equation*}\n"
   ]
  },
  {
   "cell_type": "markdown",
   "metadata": {},
   "source": [
    "Check that the data is as expected using ```print()```. It should have 506 rows (examples) and 13 columns (1 label and 12 features). Check that this is the case. \n",
    "\n",
    "Hint: use  assert."
   ]
  },
  {
   "cell_type": "code",
   "execution_count": 3,
   "metadata": {},
   "outputs": [
    {
     "name": "stdout",
     "output_type": "stream",
     "text": [
      "dataset matrix shape: (506, 13)\n",
      "[[ 0.42222222 -1.         -0.64       ... -0.425532    1.\n",
      "  -0.82064   ]\n",
      " [ 0.35555556 -0.999528   -1.         ...  0.106383    1.\n",
      "  -0.59106   ]\n",
      " [ 0.64444444 -0.999529   -1.         ...  0.106383    0.979475\n",
      "  -0.873068  ]\n",
      " ...\n",
      " [ 0.4        -0.998776   -1.         ...  0.787234    1.\n",
      "  -0.784216  ]\n",
      " [ 0.37777778 -0.997679   -1.         ...  0.787234    0.982601\n",
      "  -0.737859  ]\n",
      " [ 0.13333333 -0.999076   -1.         ...  0.787234    1.\n",
      "  -0.660596  ]]\n"
     ]
    }
   ],
   "source": [
    "print(\"dataset matrix shape:\",dataset.shape)\n",
    "print(dataset)"
   ]
  },
  {
   "cell_type": "markdown",
   "metadata": {},
   "source": [
    "## Regression without regularisation\n",
    "\n",
    "Implement a function to find the maximum likelihood solution $w_{ML}$ assuming Gaussian noise for this linear regression problem. Remember from the lectures that this is equivalent to a linear regresion problem with the cost function set as the sum of squares error."
   ]
  },
  {
   "cell_type": "code",
   "execution_count": 4,
   "metadata": {},
   "outputs": [],
   "source": [
    "\"\"\"\n",
    "X is feature matrix (n*d)\n",
    "t is target examples (d*1)\n",
    "\"\"\"\n",
    "def maxLikelihood(X, t):\n",
    "    # add a bias column to feature matrix (i.e column of 1s)\n",
    "    Xb = np.ones((X.shape[0], X.shape[1]+1))\n",
    "    Xb[:, 1:] = X\n",
    "    X = Xb\n",
    "    return inv(X.T@X)@X.T@t\n",
    "\n",
    "def RMSError(X, t, w):\n",
    "    # add a bias column to feature matrix (i.e column of 1s)\n",
    "    Xb = np.ones((X.shape[0], X.shape[1]+1))\n",
    "    Xb[:, 1:] = X\n",
    "    X = Xb\n",
    "    return np.sqrt( (1/(X.shape[0])) * (X@w -t)@(X@w -t) )\n",
    "\n",
    "def regFunction(X,w):\n",
    "    # add a bias column to feature matrix (i.e column of 1s)\n",
    "    Xb = np.ones((X.shape[0], X.shape[1]+1))\n",
    "    Xb[:, 1:] = X\n",
    "    X = Xb\n",
    "    return X@w"
   ]
  },
  {
   "cell_type": "markdown",
   "metadata": {},
   "source": [
    "## Training and testing\n",
    "\n",
    "Use a fifth of the available data for training the model using maximum likelihood. The rest of the data is allocated to the test set. Report the root mean squared error (RMSE) for the training set and the test set.\n",
    "\n",
    "Note that the data may be sorted or ordered in some way we cannot predict. How will you account for this?"
   ]
  },
  {
   "cell_type": "code",
   "execution_count": 5,
   "metadata": {},
   "outputs": [
    {
     "name": "stdout",
     "output_type": "stream",
     "text": [
      "(202, 13)\n",
      "(304, 13)\n",
      "(202, 12)\n",
      "(202,)\n"
     ]
    }
   ],
   "source": [
    "np.random.shuffle(dataset) #randomize row order of dataset matrix\n",
    "\n",
    "trainset_size = 2/5\n",
    "row_cut = int(dataset.shape[0] * trainset_size)\n",
    "\n",
    "trainset = dataset[:row_cut, :]\n",
    "testset = dataset[row_cut:, :]\n",
    "print(trainset.shape)\n",
    "print(testset.shape)\n",
    "\n",
    "train_feature = trainset[:,1:]\n",
    "train_target = trainset[:,0]\n",
    "print(train_feature.shape)\n",
    "print(train_target.shape)\n",
    "\n",
    "test_feature = testset[:, 1:]\n",
    "test_target = testset[:, 0]"
   ]
  },
  {
   "cell_type": "markdown",
   "metadata": {},
   "source": [
    "## Interpreting the model\n",
    "\n",
    "Find the feature with the biggest weight. Using ```matplotlib``` ([docs for ```matplotlib.pyplot.plot```](https://matplotlib.org/api/_as_gen/matplotlib.pyplot.plot.html)), create a plot of this feature against the label for the datapoints in the training set. In a different colour, plot this feature against the predicted label. Create a similar plot for the test data."
   ]
  },
  {
   "cell_type": "code",
   "execution_count": 6,
   "metadata": {},
   "outputs": [
    {
     "name": "stdout",
     "output_type": "stream",
     "text": [
      "Error-Minimizing weights:\n",
      "[ 0.08430728 -0.13897808  0.04424338  0.0182999  -0.07484727  0.24629955\n",
      " -0.01012177 -0.17087246  0.06999907 -0.07849709 -0.08671309  0.03758886\n",
      " -0.22284805]\n",
      "RMSE (train)\n",
      "0.09458971345212\n",
      "RMSE (test):\n",
      "0.11418942272231764\n"
     ]
    }
   ],
   "source": [
    "min_weights = maxLikelihood(train_feature, train_target)\n",
    "print(\"Error-Minimizing weights:\")\n",
    "print(min_weights)\n",
    "\n",
    "print(\"RMSE (train)\")\n",
    "print(RMSError(train_feature, train_target, min_weights))\n",
    "\n",
    "print(\"RMSE (test):\")\n",
    "print(RMSError(test_feature, test_target, min_weights))"
   ]
  },
  {
   "cell_type": "code",
   "execution_count": 7,
   "metadata": {},
   "outputs": [
    {
     "data": {
      "image/png": "[encoded data removed]",
      "text/plain": [
       "<Figure size 432x288 with 1 Axes>"
      ]
     },
     "metadata": {
      "needs_background": "light"
     },
     "output_type": "display_data"
    }
   ],
   "source": [
    "plt.figure(\"Weights\")\n",
    "plt.bar(range(len(min_weights)-1), min_weights[1:]) #plot weights, excluding bias weight (w0)\n",
    "\n",
    "plt.xticks(range(len(min_weights)-1))\n",
    "plt.title(\"Feature Weights\")\n",
    "plt.ylabel(\"weights\")\n",
    "plt.xlabel(\"n-th features\")\n",
    "\n",
    "plt.show()"
   ]
  },
  {
   "cell_type": "markdown",
   "metadata": {},
   "source": [
    "From the bar plot above, it is clear that 4-th feature has the most weight.  \n",
    "*2-th feature is the least dominant."
   ]
  },
  {
   "cell_type": "code",
   "execution_count": 8,
   "metadata": {},
   "outputs": [
    {
     "data": {
      "image/png": "[encoded data removed]",
      "text/plain": [
       "<Figure size 432x288 with 1 Axes>"
      ]
     },
     "metadata": {
      "needs_background": "light"
     },
     "output_type": "display_data"
    }
   ],
   "source": [
    "most_dom_feat = 4\n",
    "least_dom_feat = 1\n",
    "\n",
    "plt.figure(1)\n",
    "\n",
    "n = range(len(train_feature[:,most_dom_feat])) #number of datapoints\n",
    "\n",
    "plt.scatter(regFunction(train_feature, min_weights), \n",
    "            train_feature[:,most_dom_feat], color='b', label=\"feature-prediction\")\n",
    "plt.scatter(train_target, \n",
    "            train_feature[:,most_dom_feat], color='r', label=\"feature-target\")\n",
    "\n",
    "plt.title(\"Training Set Dominant Feature, Prediction, & Target\")\n",
    "plt.ylabel(\"target\\prediction value\")\n",
    "plt.xlabel(\"feature value\")\n",
    "\n",
    "plt.legend()\n",
    "plt.show()"
   ]
  },
  {
   "cell_type": "code",
   "execution_count": 14,
   "metadata": {},
   "outputs": [
    {
     "data": {
      "image/png": "[encoded data removed]",
      "text/plain": [
       "<Figure size 432x288 with 1 Axes>"
      ]
     },
     "metadata": {
      "needs_background": "light"
     },
     "output_type": "display_data"
    }
   ],
   "source": [
    "plt.figure(2)\n",
    "\n",
    "n = range(len(test_feature[:,most_dom_feat])) #number of datapoints\n",
    "\n",
    "plt.scatter(regFunction(test_feature, min_weights), \n",
    "            test_feature[:,most_dom_feat], color='b', label=\"feature-prediction\")\n",
    "plt.scatter(test_target, \n",
    "            test_feature[:,most_dom_feat], color='r', label=\"feature-target\")\n",
    "\n",
    "plt.title(\"Test Set Dominant Feature, Prediction, & Target\")\n",
    "plt.ylabel(\"target\\prediction value\")\n",
    "plt.xlabel(\"feature value\")\n",
    "\n",
    "plt.legend()\n",
    "plt.show()"
   ]
  },
  {
   "cell_type": "markdown",
   "metadata": {},
   "source": [
    "## Regression with regularisation\n",
    "\n",
    "Implement a function to find the maximum likelihood solution $w_{reg}$ for some regularisation parameter $\\lambda > 0$."
   ]
  },
  {
   "cell_type": "code",
   "execution_count": 41,
   "metadata": {},
   "outputs": [],
   "source": [
    "def maxLikelihood_regularized(X, t, lamb):\n",
    "    # add a bias column to feature matrix (i.e column of 1s)\n",
    "    Xb = np.ones((X.shape[0], X.shape[1]+1))\n",
    "    Xb[:, 1:] = X\n",
    "    X = Xb\n",
    "    \n",
    "    I = np.diag(np.ones((X.shape[1]))) #(d*d) identity matrix\n",
    "    \n",
    "    print(X.T@X + lamb*I)\n",
    "    \n",
    "    return inv(X.T@X + lamb*I) @ X.T @ t\n",
    "\n",
    "def RMSE_regularized(X, t, lamb, w):\n",
    "    # add a bias column to feature matrix (i.e column of 1s)\n",
    "    Xb = np.ones((X.shape[0], X.shape[1]+1))\n",
    "    Xb[:, 1:] = X\n",
    "    X = Xb\n",
    "    \n",
    "    I = np.diag(np.ones((X.shape[1]))) #(d*d) identity matrix\n",
    "    \n",
    "    return 1/X.shape[0] * ( (X@w-t)@(X@w-t) + lamb*(w@w) )"
   ]
  },
  {
   "cell_type": "markdown",
   "metadata": {},
   "source": [
    "By calculating the RMSE on the training and test sets, evaluate the impact of regularisation for $\\lambda = 1.1$.\n",
    "\n",
    "What is the effect of regularisation?"
   ]
  },
  {
   "cell_type": "markdown",
   "metadata": {},
   "source": [
    "### <span style=\"color:blue\">Answer</span>\n",
    "\n",
    "Regularization prevents overfitting from high model complexity, as $\\frac{\\lambda}{2}||w||_{2}^{2}$ term in the error function increases error from having more weights (which implies more complex model)."
   ]
  },
  {
   "cell_type": "code",
   "execution_count": 2,
   "metadata": {
    "scrolled": true
   },
   "outputs": [
    {
     "ename": "NameError",
     "evalue": "name 'maxLikelihood_regularized' is not defined",
     "output_type": "error",
     "traceback": [
      "\u001b[0;31m---------------------------------------------------------------------------\u001b[0m",
      "\u001b[0;31mNameError\u001b[0m                                 Traceback (most recent call last)",
      "\u001b[0;32m<ipython-input-2-ff83774138fd>\u001b[0m in \u001b[0;36m<module>\u001b[0;34m\u001b[0m\n\u001b[1;32m      1\u001b[0m \u001b[0mlamb\u001b[0m \u001b[0;34m=\u001b[0m \u001b[0;36m2.0\u001b[0m \u001b[0;31m#lagrangian multiplier\u001b[0m\u001b[0;34m\u001b[0m\u001b[0;34m\u001b[0m\u001b[0m\n\u001b[1;32m      2\u001b[0m \u001b[0;34m\u001b[0m\u001b[0m\n\u001b[0;32m----> 3\u001b[0;31m \u001b[0mminw\u001b[0m \u001b[0;34m=\u001b[0m \u001b[0mmaxLikelihood_regularized\u001b[0m\u001b[0;34m(\u001b[0m\u001b[0mtrain_feature\u001b[0m\u001b[0;34m,\u001b[0m \u001b[0mtrain_target\u001b[0m\u001b[0;34m,\u001b[0m \u001b[0mlamb\u001b[0m\u001b[0;34m)\u001b[0m\u001b[0;34m\u001b[0m\u001b[0;34m\u001b[0m\u001b[0m\n\u001b[0m\u001b[1;32m      4\u001b[0m \u001b[0mprint\u001b[0m\u001b[0;34m(\u001b[0m\u001b[0;34m\"Regularized Error-Minimizing weights:\"\u001b[0m\u001b[0;34m)\u001b[0m\u001b[0;34m\u001b[0m\u001b[0;34m\u001b[0m\u001b[0m\n\u001b[1;32m      5\u001b[0m \u001b[0mprint\u001b[0m\u001b[0;34m(\u001b[0m\u001b[0mminw\u001b[0m\u001b[0;34m)\u001b[0m\u001b[0;34m\u001b[0m\u001b[0;34m\u001b[0m\u001b[0m\n",
      "\u001b[0;31mNameError\u001b[0m: name 'maxLikelihood_regularized' is not defined"
     ]
    }
   ],
   "source": [
    "lamb = 2.0 #lagrangian multiplier\n",
    "\n",
    "minw = maxLikelihood_regularized(train_feature, train_target, lamb)\n",
    "print(\"Regularized Error-Minimizing weights:\")\n",
    "print(minw)\n",
    "\n",
    "print(\"Regularized RMSE (training):\")\n",
    "print(RMSE_regularized(train_feature, train_target, lamb, minw))\n",
    "\n",
    "print(\"Regularized RMSE (test):\")\n",
    "print(RMSE_regularized(test_feature, test_target, lamb, minw))"
   ]
  },
  {
   "cell_type": "markdown",
   "metadata": {},
   "source": [
    "## Picking a regularisation parameter\n",
    "\n",
    "You will now explore picking a good regularisation parameter.\n",
    "\n",
    "What would you expect to see if you were under-regularising (so the parameter was too small)? Over-regularising? Discuss with a partner.\n",
    "\n",
    "Plot the RMSE on the training and test sets against the regularisation parameter $\\lambda$ for a range of values of $\\lambda$. What is a good range of values of $\\lambda$ to check? What do you think is the best value?\n",
    "\n",
    "Hint: You may find you want to plot against $\\log(\\lambda)$. The functions ``np.arange`` and ``np.linspace`` could be useful here (use whichever you think is more applicable)."
   ]
  },
  {
   "cell_type": "markdown",
   "metadata": {},
   "source": [
    "### <span style=\"color:blue\">Answer</span>\n",
    "<i>--- replace this with your solution, add and remove code and markdown cells as appropriate ---</i>"
   ]
  },
  {
   "cell_type": "code",
   "execution_count": 1,
   "metadata": {},
   "outputs": [
    {
     "ename": "NameError",
     "evalue": "name 'np' is not defined",
     "output_type": "error",
     "traceback": [
      "\u001b[0;31m---------------------------------------------------------------------------\u001b[0m",
      "\u001b[0;31mNameError\u001b[0m                                 Traceback (most recent call last)",
      "\u001b[0;32m<ipython-input-1-061624d77a47>\u001b[0m in \u001b[0;36m<module>\u001b[0;34m\u001b[0m\n\u001b[0;32m----> 1\u001b[0;31m \u001b[0mlags\u001b[0m \u001b[0;34m=\u001b[0m \u001b[0mnp\u001b[0m\u001b[0;34m.\u001b[0m\u001b[0marange\u001b[0m\u001b[0;34m(\u001b[0m\u001b[0mstart\u001b[0m\u001b[0;34m=\u001b[0m\u001b[0;36m0.2\u001b[0m\u001b[0;34m,\u001b[0m\u001b[0mstop\u001b[0m\u001b[0;34m=\u001b[0m\u001b[0;36m20.0\u001b[0m\u001b[0;34m,\u001b[0m\u001b[0mstep\u001b[0m\u001b[0;34m=\u001b[0m\u001b[0;36m0.2\u001b[0m\u001b[0;34m)\u001b[0m\u001b[0;34m\u001b[0m\u001b[0;34m\u001b[0m\u001b[0m\n\u001b[0m\u001b[1;32m      2\u001b[0m \u001b[0mtest_errors\u001b[0m \u001b[0;34m=\u001b[0m \u001b[0mnp\u001b[0m\u001b[0;34m.\u001b[0m\u001b[0mempty\u001b[0m\u001b[0;34m(\u001b[0m\u001b[0mlen\u001b[0m\u001b[0;34m(\u001b[0m\u001b[0mlags\u001b[0m\u001b[0;34m)\u001b[0m\u001b[0;34m)\u001b[0m\u001b[0;34m\u001b[0m\u001b[0;34m\u001b[0m\u001b[0m\n\u001b[1;32m      3\u001b[0m \u001b[0mtrain_errors\u001b[0m \u001b[0;34m=\u001b[0m \u001b[0mnp\u001b[0m\u001b[0;34m.\u001b[0m\u001b[0mempty\u001b[0m\u001b[0;34m(\u001b[0m\u001b[0mlen\u001b[0m\u001b[0;34m(\u001b[0m\u001b[0mlags\u001b[0m\u001b[0;34m)\u001b[0m\u001b[0;34m)\u001b[0m\u001b[0;34m\u001b[0m\u001b[0;34m\u001b[0m\u001b[0m\n\u001b[1;32m      4\u001b[0m \u001b[0;34m\u001b[0m\u001b[0m\n\u001b[1;32m      5\u001b[0m \u001b[0;32mfor\u001b[0m \u001b[0mi\u001b[0m \u001b[0;32min\u001b[0m \u001b[0mrange\u001b[0m\u001b[0;34m(\u001b[0m\u001b[0mlen\u001b[0m\u001b[0;34m(\u001b[0m\u001b[0mlags\u001b[0m\u001b[0;34m)\u001b[0m\u001b[0;34m)\u001b[0m\u001b[0;34m:\u001b[0m\u001b[0;34m\u001b[0m\u001b[0;34m\u001b[0m\u001b[0m\n",
      "\u001b[0;31mNameError\u001b[0m: name 'np' is not defined"
     ]
    }
   ],
   "source": [
    "lambs = np.arange(start=0.2,stop=20.0,step=0.2)\n",
    "test_errors = np.empty(len(lambs))\n",
    "train_errors = np.empty(len(lambs))\n",
    "\n",
    "for i in range(len(lags)):    \n",
    "    min_weight = maxLikelihood_regularized(train_feature, train_target, lambs[i])\n",
    "    test_errors[i] = RMSE_regularized(test_feature, test_target, lambs[i], min_weight)\n",
    "    train_errors[i] = RMSE_regularized(train_feature, train_target, lambs[i], min_weight)\n",
    "\n",
    "    \n",
    "plt.figure(3)\n",
    "plt.plot(lambs, test_errors, color='b', label=\"test set\")\n",
    "plt.plot(lags, train_errors, color='r', label=\"training set\")\n",
    "\n",
    "plt.title(\"RMSE - $\\lambda$ comparison\")\n",
    "plt.xlabel(\"$\\lambda$\")\n",
    "plt.ylabel(\"RMS Error\")\n",
    "\n",
    "plt.legend()\n",
    "plt.show()\n",
    "\n"
   ]
  },
  {
   "cell_type": "markdown",
   "metadata": {},
   "source": [
    "# Basis Functions\n",
    "We want to use basis functions to improve our performance. Implement subroutines for polynomial basis function of degree 2. See [the feature map based on the binomial formula](http://en.wikipedia.org/wiki/Polynomial_kernel) ."
   ]
  },
  {
   "cell_type": "code",
   "execution_count": 49,
   "metadata": {
    "scrolled": true
   },
   "outputs": [
    {
     "name": "stdout",
     "output_type": "stream",
     "text": [
      "[[1. 1. 1. 1.]\n",
      " [1. 1. 1. 1.]\n",
      " [1. 1. 1. 1.]\n",
      " [1. 1. 1. 1.]]\n"
     ]
    }
   ],
   "source": [
    "def basis_function(X, d):\n",
    "    Xp = np.empty((X.shape[0], X.shape[1]**d))\n",
    "    Xp[:,:X.shape[1]] = X\n",
    "    for i in range(X.shape[1]):\n",
    "        for j in range(i,X.shape[1]):\n",
    "            xn = X[:,i] * X[:,j]\n",
    "            Xp[:,X.shape[1]+i] = xn\n",
    "    return Xp\n",
    "\n",
    "a = np.ones((4,2))\n",
    "\n",
    "polyX_train = basis_function(a, 2)\n",
    "print(polyX_train)\n",
    "# polyX_test = basis_function(test_feature, 2)\n",
    "# print(train_feature.shape)\n",
    "# print(polyX)\n",
    "# print(polyX.shape)"
   ]
  },
  {
   "cell_type": "markdown",
   "metadata": {},
   "source": [
    "Apply this to your train and test sets, and repeat the above exercise with these new features. Report what differences you see."
   ]
  },
  {
   "cell_type": "markdown",
   "metadata": {},
   "source": [
    "### <span style=\"color:blue\">Answer</span>\n",
    "<i>--- replace this with your solution, add and remove code and markdown cells as appropriate ---</i>"
   ]
  },
  {
   "cell_type": "code",
   "execution_count": 42,
   "metadata": {},
   "outputs": [
    {
     "name": "stdout",
     "output_type": "stream",
     "text": [
      "[[ 2.03100000e+002 -1.89181314e+002 -1.52880000e+002 ...  1.55023933e+294\n",
      "               nan  4.61191211e+289]\n",
      " [-1.89181314e+002  1.81250026e+002  1.40149157e+002 ... -1.54868752e+294\n",
      "               nan -4.60867173e+289]\n",
      " [-1.52880000e+002  1.40149157e+002  1.62452200e+002 ... -1.55023032e+294\n",
      "               nan  3.55125185e+288]\n",
      " ...\n",
      " [ 1.55023933e+294 -1.54868752e+294 -1.55023032e+294 ...              inf\n",
      "               nan              nan]\n",
      " [             nan              nan              nan ...              nan\n",
      "               nan              nan]\n",
      " [ 4.61191211e+289 -4.60867173e+289  3.55125185e+288 ...              nan\n",
      "               nan              inf]]\n"
     ]
    },
    {
     "data": {
      "text/plain": [
       "array([nan, nan, nan, nan, nan, nan, nan, nan, nan, nan, nan, nan, nan,\n",
       "       nan, nan, nan, nan, nan, nan, nan, nan, nan, nan, nan, nan, nan,\n",
       "       nan, nan, nan, nan, nan, nan, nan, nan, nan, nan, nan, nan, nan,\n",
       "       nan, nan, nan, nan, nan, nan, nan, nan, nan, nan, nan, nan, nan,\n",
       "       nan, nan, nan, nan, nan, nan, nan, nan, nan, nan, nan, nan, nan,\n",
       "       nan, nan, nan, nan, nan, nan, nan, nan, nan, nan, nan, nan, nan,\n",
       "       nan, nan, nan, nan, nan, nan, nan, nan, nan, nan, nan, nan, nan,\n",
       "       nan, nan, nan, nan, nan, nan, nan, nan, nan, nan, nan, nan, nan,\n",
       "       nan, nan, nan, nan, nan, nan, nan, nan, nan, nan, nan, nan, nan,\n",
       "       nan, nan, nan, nan, nan, nan, nan, nan, nan, nan, nan, nan, nan,\n",
       "       nan, nan, nan, nan, nan, nan, nan, nan, nan, nan, nan, nan, nan,\n",
       "       nan, nan])"
      ]
     },
     "execution_count": 42,
     "metadata": {},
     "output_type": "execute_result"
    }
   ],
   "source": [
    "maxLikelihood_regularized(polyX_train, train_target, 1.1)\n"
   ]
  }
 ],
 "metadata": {
  "kernelspec": {
   "display_name": "Python 3",
   "language": "python",
   "name": "python3"
  },
  "language_info": {
   "codemirror_mode": {
    "name": "ipython",
    "version": 3
   },
   "file_extension": ".py",
   "mimetype": "text/x-python",
   "name": "python",
   "nbconvert_exporter": "python",
   "pygments_lexer": "ipython3",
   "version": "3.6.7"
  }
 },
 "nbformat": 4,
 "nbformat_minor": 1
}
