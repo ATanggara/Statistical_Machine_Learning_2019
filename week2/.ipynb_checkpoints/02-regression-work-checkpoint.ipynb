{
 "cells": [
  {
   "cell_type": "markdown",
   "metadata": {},
   "source": [
    "# Regression"
   ]
  },
  {
   "cell_type": "markdown",
   "metadata": {},
   "source": [
    "###### COMP4670/8600 - Introduction to Statistical Machine Learning - Week 2"
   ]
  },
  {
   "cell_type": "markdown",
   "metadata": {},
   "source": [
    "In this lab, we will use linear regression to predict the value of a home and explore the impact of regularisation.\n",
    "\n",
    "### Assumed knowledge\n",
    "- Maximum likelihood solution to a linear regression problem, with and without regularisation (week 2 lectures)\n",
    "- Matrix calculations in numpy (week 1 lab and precourse material)\n",
    "- Theory behind regularisation (week 2 lectures)\n",
    "\n",
    "### After this lab, you should be comfortable with:\n",
    "- Practical linear regression problems\n",
    "- Picking an appropriate regularisation parameter for a given problem"
   ]
  },
  {
   "cell_type": "markdown",
   "metadata": {},
   "source": [
    "$\\newcommand{\\trace}[1]{\\operatorname{tr}\\left\\{#1\\right\\}}$\n",
    "$\\newcommand{\\Norm}[1]{\\lVert#1\\rVert}$\n",
    "$\\newcommand{\\RR}{\\mathbb{R}}$\n",
    "$\\newcommand{\\inner}[2]{\\langle #1, #2 \\rangle}$\n",
    "$\\newcommand{\\DD}{\\mathscr{D}}$\n",
    "$\\newcommand{\\grad}[1]{\\operatorname{grad}#1}$\n",
    "$\\DeclareMathOperator*{\\argmin}{arg\\,min}$\n",
    "\n",
    "Setting up the environment"
   ]
  },
  {
   "cell_type": "code",
   "execution_count": 1,
   "metadata": {},
   "outputs": [],
   "source": [
    "import matplotlib.pyplot as plt\n",
    "import numpy as np\n",
    "from numpy.linalg import inv\n",
    "\n",
    "%matplotlib inline"
   ]
  },
  {
   "cell_type": "markdown",
   "metadata": {},
   "source": [
    "## The data set\n",
    "\n",
    "\n",
    "We will use [a dataset](https://machlearn.gitlab.io/sml2019/tutorials/02-dataset.csv) on the price of housing in Boston (see [description](https://www.cs.toronto.edu/~delve/data/boston/bostonDetail.html)). \n",
    "We aim to predict the value of a home from other factors.\n",
    "In this dataset, each row is one house. The first entry is the value of the house, which has been normalised to be in the range $[-1, 1]$, and we will predict of the remaining values. The column labels are\n",
    "\n",
    "```'medv', 'crim', 'zn', 'indus', 'chas', 'nox', 'rm', 'age', 'dis', 'rad', 'tax', 'ptratio', 'b', 'lstat'```\n",
    "\n",
    "Download the dataset. Read in the data using ```np.loadtxt``` with the optional argument ```delimiter=','```, as our data is comma separated rather than space separated. Remove the column containing the binary variable ```'chas'```."
   ]
  },
  {
   "cell_type": "code",
   "execution_count": 2,
   "metadata": {},
   "outputs": [
    {
     "name": "stdout",
     "output_type": "stream",
     "text": [
      "(506,)\n"
     ]
    }
   ],
   "source": [
    "dataset = np.loadtxt(\"02-dataset.csv\", delimiter=',')\n",
    "\n",
    "# remove 'chas' feature from dataset\n",
    "d = np.empty(shape=(dataset.shape[0], dataset.shape[1]-1))\n",
    "d[:, :4] = dataset[:, :4]\n",
    "d[:, 4:] = dataset[:, 5:]\n",
    "dataset = d\n",
    "\n",
    "# normalize target variables\n",
    "# norm_target = np.reshape(dataset[:, 0], (dataset.shape[0], 1))\n",
    "# target_min = min(norm_target)\n",
    "# target_max = max(norm_target)\n",
    "# norm_target = (norm_target - (target_min*np.ones(norm_target.shape))) / (target_max-target_min)\n",
    "# dataset[:,0] = np.reshape(norm_target, (dataset.shape[0], ))\n",
    "\n",
    "# print(norm_target.shape)\n",
    "print(dataset[:,0].shape)"
   ]
  },
  {
   "cell_type": "markdown",
   "metadata": {},
   "source": [
    "### Note\n",
    "\n",
    "Normalization formula:\n",
    "\\begin{equation*}\n",
    "    \\frac{\\text{initial value} - \\text{min value}}{\\text{max value} - \\text{min value}}\n",
    "\\end{equation*}\n"
   ]
  },
  {
   "cell_type": "markdown",
   "metadata": {},
   "source": [
    "Check that the data is as expected using ```print()```. It should have 506 rows (examples) and 13 columns (1 label and 12 features). Check that this is the case. \n",
    "\n",
    "Hint: use  assert."
   ]
  },
  {
   "cell_type": "code",
   "execution_count": 3,
   "metadata": {},
   "outputs": [
    {
     "name": "stdout",
     "output_type": "stream",
     "text": [
      "dataset matrix shape: (506, 13)\n",
      "[[24.       -1.       -0.64     ... -0.425532  1.       -0.82064 ]\n",
      " [21.       -0.999528 -1.       ...  0.106383  1.       -0.59106 ]\n",
      " [34.       -0.999529 -1.       ...  0.106383  0.979475 -0.873068]\n",
      " ...\n",
      " [23.       -0.998776 -1.       ...  0.787234  1.       -0.784216]\n",
      " [22.       -0.997679 -1.       ...  0.787234  0.982601 -0.737859]\n",
      " [11.       -0.999076 -1.       ...  0.787234  1.       -0.660596]]\n"
     ]
    }
   ],
   "source": [
    "print(\"dataset matrix shape:\",dataset.shape)\n",
    "print(dataset)"
   ]
  },
  {
   "cell_type": "markdown",
   "metadata": {},
   "source": [
    "## Regression without regularisation\n",
    "\n",
    "Implement a function to find the maximum likelihood solution $w_{ML}$ assuming Gaussian noise for this linear regression problem. Remember from the lectures that this is equivalent to a linear regresion problem with the cost function set as the sum of squares error."
   ]
  },
  {
   "cell_type": "code",
   "execution_count": 4,
   "metadata": {},
   "outputs": [],
   "source": [
    "\"\"\"\n",
    "X is feature matrix (n*d)\n",
    "t is target examples (d*1)\n",
    "\"\"\"\n",
    "def maxLikelihood(X, t, bias=False):\n",
    "    # add a bias column to feature matrix (i.e column of 1s)\n",
    "    if bias == True:\n",
    "        Xb = np.ones((X.shape[0], X.shape[1]+1))\n",
    "        Xb[:, 1:] = X\n",
    "        X = Xb\n",
    "    return inv(X.T@X)@X.T@t\n",
    "\n",
    "def RMSError(X, t, w, bias=False):\n",
    "    # add a bias column to feature matrix (i.e column of 1s)\n",
    "    if bias == True:\n",
    "        Xb = np.ones((X.shape[0], X.shape[1]+1))\n",
    "        Xb[:, 1:] = X\n",
    "        X = Xb\n",
    "    return (1/np.sqrt(X.shape[0])) * np.linalg.norm(X@w -t) \n",
    "\n",
    "def regFunction(X,w, bias=False):\n",
    "    # add a bias column to feature matrix (i.e column of 1s)\n",
    "    if bias == True:\n",
    "        Xb = np.ones((X.shape[0], X.shape[1]+1))\n",
    "        Xb[:, 1:] = X\n",
    "        X = Xb\n",
    "    return X@w"
   ]
  },
  {
   "cell_type": "markdown",
   "metadata": {},
   "source": [
    "## Training and testing\n",
    "\n",
    "Use a fifth of the available data for training the model using maximum likelihood. The rest of the data is allocated to the test set. Report the root mean squared error (RMSE) for the training set and the test set.\n",
    "\n",
    "Note that the data may be sorted or ordered in some way we cannot predict. How will you account for this?"
   ]
  },
  {
   "cell_type": "code",
   "execution_count": 5,
   "metadata": {},
   "outputs": [
    {
     "name": "stdout",
     "output_type": "stream",
     "text": [
      "(101, 13)\n",
      "(405, 13)\n",
      "(101, 12)\n",
      "(101,)\n"
     ]
    }
   ],
   "source": [
    "np.random.shuffle(dataset) #randomize row order of dataset matrix\n",
    "\n",
    "trainset_size = 1/5\n",
    "row_cut = int(dataset.shape[0] * trainset_size)\n",
    "\n",
    "trainset = dataset[:row_cut, :]\n",
    "testset = dataset[row_cut:, :]\n",
    "print(trainset.shape)\n",
    "print(testset.shape)\n",
    "\n",
    "train_feature = trainset[:,1:]\n",
    "train_target = trainset[:,0]\n",
    "print(train_feature.shape)\n",
    "print(train_target.shape)\n",
    "\n",
    "test_feature = testset[:, 1:]\n",
    "test_target = testset[:, 0]"
   ]
  },
  {
   "cell_type": "markdown",
   "metadata": {},
   "source": [
    "## Interpreting the model\n",
    "\n",
    "Find the feature with the biggest weight. Using ```matplotlib``` ([docs for ```matplotlib.pyplot.plot```](https://matplotlib.org/api/_as_gen/matplotlib.pyplot.plot.html)), create a plot of this feature against the label for the datapoints in the training set. In a different colour, plot this feature against the predicted label. Create a similar plot for the test data."
   ]
  },
  {
   "cell_type": "code",
   "execution_count": 6,
   "metadata": {},
   "outputs": [
    {
     "name": "stdout",
     "output_type": "stream",
     "text": [
      "Error-Minimizing weights:\n",
      "[-14.9412102    1.45976901  -0.49771537  -6.69372668  15.46391336\n",
      "   1.24539997  -9.67846038   5.74965218  -2.60019685  -3.78249802\n",
      "   1.66216019  -7.16177994]\n",
      "RMSE (train)\n",
      "5.065625798576132\n",
      "RMSE (test):\n",
      "5.441564158901487\n"
     ]
    }
   ],
   "source": [
    "opt_weights = maxLikelihood(train_feature, train_target, bias=False)\n",
    "print(\"Error-Minimizing weights:\")\n",
    "print(opt_weights)\n",
    "\n",
    "print(\"RMSE (train)\")\n",
    "print(RMSError(train_feature, train_target, opt_weights, bias=False))\n",
    "\n",
    "print(\"RMSE (test):\")\n",
    "print(RMSError(test_feature, test_target, opt_weights, bias=False))"
   ]
  },
  {
   "cell_type": "code",
   "execution_count": 7,
   "metadata": {},
   "outputs": [
    {
     "name": "stdout",
     "output_type": "stream",
     "text": [
      "[-14.9412102    1.45976901  -0.49771537  -6.69372668  15.46391336\n",
      "   1.24539997  -9.67846038   5.74965218  -2.60019685  -3.78249802\n",
      "   1.66216019  -7.16177994]\n"
     ]
    },
    {
     "data": {
      "image/png": "[encoded data removed]",
      "text/plain": [
       "<Figure size 432x288 with 1 Axes>"
      ]
     },
     "metadata": {
      "needs_background": "light"
     },
     "output_type": "display_data"
    }
   ],
   "source": [
    "print(opt_weights)\n",
    "\n",
    "plt.figure(\"Weights\")\n",
    "plt.bar(range(len(opt_weights)-1), opt_weights[1:]) #plot weights, excluding bias weight (w0)\n",
    "\n",
    "plt.xticks(range(len(opt_weights)-1))\n",
    "plt.title(\"Feature Weights\")\n",
    "plt.ylabel(\"weights\")\n",
    "plt.xlabel(\"n-th features\")\n",
    "\n",
    "plt.show()"
   ]
  },
  {
   "cell_type": "markdown",
   "metadata": {},
   "source": [
    "From the bar plot above, it is clear that 4-th feature has the most weight.  \n",
    "*2-th feature is the least dominant."
   ]
  },
  {
   "cell_type": "code",
   "execution_count": 9,
   "metadata": {},
   "outputs": [
    {
     "name": "stdout",
     "output_type": "stream",
     "text": [
      "[14.9412102   1.45976901  0.49771537  6.69372668 15.46391336  1.24539997\n",
      "  9.67846038  5.74965218  2.60019685  3.78249802  1.66216019  7.16177994]\n",
      "4\n",
      "(405, 12)\n",
      "(101, 12)\n",
      "[ 19.41197378  32.95050357  23.081174    23.03642093  24.92420166\n",
      "  22.7921967   18.39647598  20.65215749  29.0513926   19.24241944\n",
      "  21.21856095  34.49075995  24.50885845  18.18430734  28.60420096\n",
      "  30.38443514  15.28036551 -10.04432296  15.75868627  22.54221906\n",
      "  34.06602472  31.77894874  19.32694004   9.35849528  22.30359658\n",
      "  19.73551914  11.11696393  41.80534622  39.37031624  28.99471875\n",
      "  11.40659683  36.36011837  32.51257871  22.53258761  16.62687642\n",
      "  44.23962973  24.33450084  19.72329404  15.16117024  30.5573391\n",
      "  26.6715915    7.47339339  23.82707158  20.07089545  20.48766204\n",
      "  20.81402469  21.47323664  32.2819369   25.44963956  25.59640207\n",
      "   9.34238255   4.72281752  35.33114102  22.00276405  20.81693756\n",
      "  20.36884884  31.21671932  11.08227031  28.02352599  27.32633173\n",
      "  11.98346831  15.92620758  16.98894162  19.18386792  21.03005107\n",
      "  18.16727257  42.70246237  30.67802676  14.08453956  24.27180879\n",
      "  34.31213019   8.88410447   2.90012281  22.24371102  16.35202249\n",
      "  22.16470794  20.61975826  16.01423502  20.29605477  38.01868479\n",
      "  35.02668242  32.77085916  21.15884421  19.67463005  20.93448172\n",
      "  28.56401027  14.4442692   35.05437395  39.48953008  27.62122274\n",
      "  22.41456261  12.17492781   8.23466627  23.89787496  29.39318619\n",
      "  23.03984602  21.29672224  18.72696795  13.21550433  28.81224431\n",
      "  23.71423745]\n"
     ]
    },
    {
     "data": {
      "image/png": "[encoded data removed]",
      "text/plain": [
       "<Figure size 432x288 with 1 Axes>"
      ]
     },
     "metadata": {
      "needs_background": "light"
     },
     "output_type": "display_data"
    },
    {
     "data": {
      "text/plain": [
       "<Figure size 432x288 with 0 Axes>"
      ]
     },
     "metadata": {},
     "output_type": "display_data"
    },
    {
     "data": {
      "image/png": "[encoded data removed]",
      "text/plain": [
       "<Figure size 432x288 with 1 Axes>"
      ]
     },
     "metadata": {
      "needs_background": "light"
     },
     "output_type": "display_data"
    },
    {
     "data": {
      "text/plain": [
       "<Figure size 432x288 with 0 Axes>"
      ]
     },
     "metadata": {},
     "output_type": "display_data"
    }
   ],
   "source": [
    "print(np.absolute(opt_weights))\n",
    "most_dom_feat = np.argmax(np.absolute(opt_weights))\n",
    "print(most_dom_feat)\n",
    "least_dom_feat = 1\n",
    "\n",
    "print(test_feature.shape)\n",
    "print(train_feature.shape)\n",
    "\n",
    "plt.figure(1)\n",
    "\n",
    "n = range(len(train_feature[:,most_dom_feat])) #number of datapoints\n",
    "\n",
    "plt.scatter(regFunction(train_feature, opt_weights), \n",
    "            train_feature[:,most_dom_feat], color='b', s=10, label=\"feature-prediction\")\n",
    "plt.scatter(train_target, \n",
    "            train_feature[:,most_dom_feat], color='r', s=10, label=\"feature-target\")\n",
    "\n",
    "print(regFunction(train_feature, opt_weights))\n",
    "# print(train_target)\n",
    "\n",
    "plt.title(\"Training Set Dominant Feature, Prediction, & Target\")\n",
    "plt.ylabel(\"target\\prediction value\")\n",
    "plt.xlabel(\"dominant feature value\")\n",
    "\n",
    "plt.legend()\n",
    "plt.show()\n",
    "plt.clf()\n",
    "\n",
    "plt.figure(2)\n",
    "\n",
    "n = range(len(test_feature[:,most_dom_feat])) #number of datapoints\n",
    "\n",
    "plt.scatter(test_feature[:,most_dom_feat], \n",
    "            regFunction(test_feature, opt_weights),\n",
    "            color='b', s=10, label=\"feature-prediction\")\n",
    "plt.scatter(test_feature[:,most_dom_feat],\n",
    "            test_target, \n",
    "            color='r', s=10, label=\"feature-target\")\n",
    "\n",
    "plt.title(\"Test Set Dominant Feature, Prediction, & Target\")\n",
    "plt.ylabel(\"target\\prediction value\")\n",
    "plt.xlabel(\"dominant feature value\")\n",
    "\n",
    "plt.legend()\n",
    "plt.show()\n",
    "plt.clf()\n"
   ]
  },
  {
   "cell_type": "markdown",
   "metadata": {},
   "source": [
    "## Regression with regularisation\n",
    "\n",
    "Implement a function to find the maximum likelihood solution $w_{reg}$ for some regularisation parameter $\\lambda > 0$."
   ]
  },
  {
   "cell_type": "code",
   "execution_count": 28,
   "metadata": {},
   "outputs": [],
   "source": [
    "def maxLikelihood_regularized(X, t, lamb, bias=False):\n",
    "    # add a bias column to feature matrix (i.e column of 1s)\n",
    "    if bias == True:\n",
    "        Xb = np.ones((X.shape[0], X.shape[1]+1))\n",
    "        Xb[:, 1:] = X\n",
    "        X = Xb\n",
    "    \n",
    "    I = np.eye(X.shape[1]) #(d*d) identity matrix\n",
    "    \n",
    "    return inv(X.T@X + lamb*I) @ X.T @ t\n",
    "\n",
    "def RMSE_regularized(X, t, lamb, w, bias=False):\n",
    "    # add a bias column to feature matrix (i.e column of 1s)\n",
    "    if bias == True:\n",
    "        Xb = np.ones((X.shape[0], X.shape[1]+1))\n",
    "        Xb[:, 1:] = X\n",
    "        X = Xb\n",
    "    \n",
    "    I = np.diag(np.ones((X.shape[1]))) #(d*d) identity matrix\n",
    "    \n",
    "    return np.sqrt(1/X.shape[0]) * ( np.linalg.norm(X@w - t) )\n"
   ]
  },
  {
   "cell_type": "markdown",
   "metadata": {},
   "source": [
    "By calculating the RMSE on the training and test sets, evaluate the impact of regularisation for $\\lambda = 1.1$.\n",
    "\n",
    "What is the effect of regularisation?"
   ]
  },
  {
   "cell_type": "markdown",
   "metadata": {},
   "source": [
    "### <span style=\"color:blue\">Answer</span>\n",
    "\n",
    "Regularization prevents overfitting from high model complexity, as $\\frac{\\lambda}{2}||w||_{2}^{2}$ term in the error function increases error from having more weights (which implies more complex model)."
   ]
  },
  {
   "cell_type": "code",
   "execution_count": 26,
   "metadata": {
    "scrolled": true
   },
   "outputs": [
    {
     "name": "stdout",
     "output_type": "stream",
     "text": [
      "Regularized Error-Minimizing weights:\n",
      "[-13.1347482    0.81883618  -1.48958508  -5.86892933  11.90826919\n",
      "   1.65838828  -8.90127907   4.62622373  -1.73043947  -3.91910161\n",
      "   2.63264957  -8.49445669]\n",
      "Regularized RMSE (training):\n",
      "5.1387162113755815\n",
      "Regularized RMSE (test):\n",
      "66.7973690947402\n"
     ]
    }
   ],
   "source": [
    "lamb = 1.1 #regularization multiplier\n",
    "\n",
    "minw_reg = maxLikelihood_regularized(train_feature, train_target, lamb)\n",
    "print(\"Regularized Error-Minimizing weights:\")\n",
    "print(minw_reg)\n",
    "\n",
    "print(\"Regularized RMSE (training):\")\n",
    "print(RMSError(train_feature, train_target, minw_reg))\n",
    "# print(RMSE_regularized(train_feature, train_target, lamb, minw_reg))\n",
    "\n",
    "print(\"Regularized RMSE (test):\")\n",
    "print(RMSE_regularized(test_feature, test_target, lamb, minw_reg))"
   ]
  },
  {
   "cell_type": "markdown",
   "metadata": {},
   "source": [
    "## Picking a regularisation parameter\n",
    "\n",
    "You will now explore picking a good regularisation parameter.\n",
    "\n",
    "What would you expect to see if you were under-regularising (so the parameter was too small)? Over-regularising? Discuss with a partner.\n",
    "\n",
    "Plot the RMSE on the training and test sets against the regularisation parameter $\\lambda$ for a range of values of $\\lambda$. What is a good range of values of $\\lambda$ to check? What do you think is the best value?\n",
    "\n",
    "Hint: You may find you want to plot against $\\log(\\lambda)$. The functions ``np.arange`` and ``np.linspace`` could be useful here (use whichever you think is more applicable)."
   ]
  },
  {
   "cell_type": "markdown",
   "metadata": {},
   "source": [
    "### <span style=\"color:blue\">Answer</span>\n",
    "<i>--- replace this with your solution, add and remove code and markdown cells as appropriate ---</i>"
   ]
  },
  {
   "cell_type": "code",
   "execution_count": 27,
   "metadata": {},
   "outputs": [
    {
     "data": {
      "image/png": "[encoded data removed]",
      "text/plain": [
       "<Figure size 432x288 with 1 Axes>"
      ]
     },
     "metadata": {
      "needs_background": "light"
     },
     "output_type": "display_data"
    }
   ],
   "source": [
    "lambs = np.arange(start=-20.0,stop=20.0,step=0.2)\n",
    "test_errors = np.zeros(len(lambs))\n",
    "train_errors = np.zeros(len(lambs))\n",
    "\n",
    "for i in range(len(lambs)):    \n",
    "    min_weight = maxLikelihood_regularized(train_feature, train_target, lambs[i])\n",
    "    test_errors[i] = RMSE_regularized(test_feature, test_target, lambs[i], min_weight)\n",
    "    train_errors[i] = RMSE_regularized(train_feature, train_target, lambs[i], min_weight)\n",
    "#     test_errors[i] = RMSError(test_feature, test_target, min_weight)\n",
    "#     train_errors[i] = RMSError(train_feature, train_target, min_weight)\n",
    "    \n",
    "plt.figure(3)\n",
    "plt.plot(lambs, test_errors, color='b', label=\"test set\")\n",
    "plt.plot(lambs, train_errors, color='r', label=\"training set\")\n",
    "\n",
    "plt.title(\"RMSE - $\\lambda$ comparison\")\n",
    "plt.xlabel(\"$\\lambda$\")\n",
    "plt.ylabel(\"RMS Error\")\n",
    "\n",
    "plt.legend()\n",
    "plt.show()\n",
    "\n"
   ]
  },
  {
   "cell_type": "markdown",
   "metadata": {},
   "source": [
    "# Basis Functions\n",
    "We want to use basis functions to improve our performance. Implement subroutines for polynomial basis function of degree 2. See [the feature map based on the binomial formula](http://en.wikipedia.org/wiki/Polynomial_kernel) ."
   ]
  },
  {
   "cell_type": "code",
   "execution_count": 49,
   "metadata": {
    "scrolled": true
   },
   "outputs": [
    {
     "name": "stdout",
     "output_type": "stream",
     "text": [
      "[[1. 1. 1. 1.]\n",
      " [1. 1. 1. 1.]\n",
      " [1. 1. 1. 1.]\n",
      " [1. 1. 1. 1.]]\n"
     ]
    }
   ],
   "source": [
    "def basis_function(X, d):\n",
    "    Xp = np.empty((X.shape[0], X.shape[1]**d))\n",
    "    Xp[:,:X.shape[1]] = X\n",
    "    for i in range(X.shape[1]):\n",
    "        for j in range(i,X.shape[1]):\n",
    "            xn = X[:,i] * X[:,j]\n",
    "            Xp[:,X.shape[1]+i] = xn\n",
    "    return Xp\n",
    "\n",
    "a = np.ones((4,2))\n",
    "\n",
    "polyX_train = basis_function(a, 2)\n",
    "print(polyX_train)\n",
    "# polyX_test = basis_function(test_feature, 2)\n",
    "# print(train_feature.shape)\n",
    "# print(polyX)\n",
    "# print(polyX.shape)"
   ]
  },
  {
   "cell_type": "markdown",
   "metadata": {},
   "source": [
    "Apply this to your train and test sets, and repeat the above exercise with these new features. Report what differences you see."
   ]
  },
  {
   "cell_type": "markdown",
   "metadata": {},
   "source": [
    "### <span style=\"color:blue\">Answer</span>\n",
    "<i>--- replace this with your solution, add and remove code and markdown cells as appropriate ---</i>"
   ]
  },
  {
   "cell_type": "code",
   "execution_count": 42,
   "metadata": {},
   "outputs": [
    {
     "name": "stdout",
     "output_type": "stream",
     "text": [
      "[[ 2.03100000e+002 -1.89181314e+002 -1.52880000e+002 ...  1.55023933e+294\n",
      "               nan  4.61191211e+289]\n",
      " [-1.89181314e+002  1.81250026e+002  1.40149157e+002 ... -1.54868752e+294\n",
      "               nan -4.60867173e+289]\n",
      " [-1.52880000e+002  1.40149157e+002  1.62452200e+002 ... -1.55023032e+294\n",
      "               nan  3.55125185e+288]\n",
      " ...\n",
      " [ 1.55023933e+294 -1.54868752e+294 -1.55023032e+294 ...              inf\n",
      "               nan              nan]\n",
      " [             nan              nan              nan ...              nan\n",
      "               nan              nan]\n",
      " [ 4.61191211e+289 -4.60867173e+289  3.55125185e+288 ...              nan\n",
      "               nan              inf]]\n"
     ]
    },
    {
     "data": {
      "text/plain": [
       "array([nan, nan, nan, nan, nan, nan, nan, nan, nan, nan, nan, nan, nan,\n",
       "       nan, nan, nan, nan, nan, nan, nan, nan, nan, nan, nan, nan, nan,\n",
       "       nan, nan, nan, nan, nan, nan, nan, nan, nan, nan, nan, nan, nan,\n",
       "       nan, nan, nan, nan, nan, nan, nan, nan, nan, nan, nan, nan, nan,\n",
       "       nan, nan, nan, nan, nan, nan, nan, nan, nan, nan, nan, nan, nan,\n",
       "       nan, nan, nan, nan, nan, nan, nan, nan, nan, nan, nan, nan, nan,\n",
       "       nan, nan, nan, nan, nan, nan, nan, nan, nan, nan, nan, nan, nan,\n",
       "       nan, nan, nan, nan, nan, nan, nan, nan, nan, nan, nan, nan, nan,\n",
       "       nan, nan, nan, nan, nan, nan, nan, nan, nan, nan, nan, nan, nan,\n",
       "       nan, nan, nan, nan, nan, nan, nan, nan, nan, nan, nan, nan, nan,\n",
       "       nan, nan, nan, nan, nan, nan, nan, nan, nan, nan, nan, nan, nan,\n",
       "       nan, nan])"
      ]
     },
     "execution_count": 42,
     "metadata": {},
     "output_type": "execute_result"
    }
   ],
   "source": [
    "maxLikelihood_regularized(polyX_train, train_target, 1.1)\n"
   ]
  }
 ],
 "metadata": {
  "kernelspec": {
   "display_name": "Python 3",
   "language": "python",
   "name": "python3"
  },
  "language_info": {
   "codemirror_mode": {
    "name": "ipython",
    "version": 3
   },
   "file_extension": ".py",
   "mimetype": "text/x-python",
   "name": "python",
   "nbconvert_exporter": "python",
   "pygments_lexer": "ipython3",
   "version": "3.7.2"
  }
 },
 "nbformat": 4,
 "nbformat_minor": 1
}
