{
 "cells": [
  {
   "cell_type": "markdown",
   "metadata": {},
   "source": [
    "# Matrix decomposition"
   ]
  },
  {
   "cell_type": "markdown",
   "metadata": {},
   "source": [
    "###### COMP4670/8600 - Introduction to Statistical Machine Learning - Tutorial"
   ]
  },
  {
   "cell_type": "markdown",
   "metadata": {},
   "source": [
    "Setting up the environment"
   ]
  },
  {
   "cell_type": "code",
   "execution_count": 1,
   "metadata": {},
   "outputs": [],
   "source": [
    "import matplotlib.pyplot as plt\n",
    "import numpy as np\n",
    "import pandas as pd\n",
    "import scipy.optimize as opt\n",
    "import pickle\n",
    "\n",
    "%matplotlib inline"
   ]
  },
  {
   "cell_type": "markdown",
   "metadata": {},
   "source": [
    "## Covariance matrix and positive semidefinite matrix\n",
    "\n",
    "For a dataset $X$ with $N$ examples and $D$ features, we can represent it as a matrix. What is the dimensions of this matrix $X$? The covariance matrix $C$ is the matrix representing the variance and covariance between each pair of features. What is the size of this matrix $C$?"
   ]
  },
  {
   "cell_type": "markdown",
   "metadata": {},
   "source": [
    "### <span style=\"color:blue\">Answer</span>\n",
    "\n",
    "1.  Dimension of feature matrix $X$ is $N \\times D$ (i.e $X \\in \\mathbb R^{N\\times D}$),\n",
    "\n",
    "    $X = \\begin{bmatrix}\n",
    "        x_{11} & \\dots & x_{1D}\\\\\n",
    "        \\vdots & \\ddots & \\vdots\\\\\n",
    "        x_{N1} & \\dots & x_{ND}\n",
    "    \\end{bmatrix}$\n",
    "\n",
    "\n",
    "2.  Size of covariance matrix $C$ is $D\\times D$ (i.e $C \\in \\mathbb R^{D\\times D}$).\n",
    "\n",
    "    $C = \\begin{bmatrix}\n",
    "        \\mathrm{cov}[d_1, d_1] & \\dots & \\mathrm{cov}[d_D, d_1]\\\\\n",
    "        \\vdots & \\ddots & \\vdots\\\\\n",
    "        \\mathrm{cov}[d_1, d_D] & \\dots & \\mathrm{cov}[d_D, d_D]\n",
    "    \\end{bmatrix}$\n"
   ]
  },
  {
   "cell_type": "markdown",
   "metadata": {},
   "source": [
    "Generate a data matrix $X$ using ```gen_data``` from Tutorial 1a. Compute the covariance matrix $C$ and its eigenvalue decomposition using ```np.linalg.eigh```."
   ]
  },
  {
   "cell_type": "code",
   "execution_count": 35,
   "metadata": {
    "scrolled": false
   },
   "outputs": [
    {
     "data": {
      "image/png": "[encoded data removed]",
      "text/plain": [
       "<Figure size 432x288 with 1 Axes>"
      ]
     },
     "metadata": {
      "needs_background": "light"
     },
     "output_type": "display_data"
    },
    {
     "name": "stdout",
     "output_type": "stream",
     "text": [
      "Covariance matrix: \n",
      " [[ 1.1450699   0.10721754 -0.10834417  0.14385982  0.06719157]\n",
      " [ 0.10721754  0.97067375  0.07341215 -0.04845656 -0.11932985]\n",
      " [-0.10834417  0.07341215  1.00837352 -0.01870328  0.0713274 ]\n",
      " [ 0.14385982 -0.04845656 -0.01870328  1.0764247  -0.10192042]\n",
      " [ 0.06719157 -0.11932985  0.0713274  -0.10192042  0.99619609]]\n",
      "\n",
      "Eigenvalues: [0.69745439 1.01124659 1.07916243 1.10746414 1.30141042] \n",
      "Eigenvectors: \n",
      " [[ 0.41130251  0.04709699  0.31193463 -0.4055618   0.75288016]\n",
      " [-0.54971852  0.10460351  0.75420714  0.30993989  0.14824478]\n",
      " [ 0.37135493 -0.76471022  0.42328742  0.03557682 -0.31124884]\n",
      " [-0.34778397 -0.5937203  -0.39304333  0.28103138  0.54136939]\n",
      " [-0.51940506 -0.22260832  0.01459729 -0.81191905 -0.14573364]]\n",
      "decomposition:\n",
      " [[ 0.41130251  0.04709699  0.31193463 -0.4055618   0.75288016]\n",
      " [-0.54971852  0.10460351  0.75420714  0.30993989  0.14824478]\n",
      " [ 0.37135493 -0.76471022  0.42328742  0.03557682 -0.31124884]\n",
      " [-0.34778397 -0.5937203  -0.39304333  0.28103138  0.54136939]\n",
      " [-0.51940506 -0.22260832  0.01459729 -0.81191905 -0.14573364]] \n",
      " [[0.69745439 0.         0.         0.         0.        ]\n",
      " [0.         1.01124659 0.         0.         0.        ]\n",
      " [0.         0.         1.07916243 0.         0.        ]\n",
      " [0.         0.         0.         1.10746414 0.        ]\n",
      " [0.         0.         0.         0.         1.30141042]] \n",
      " [[ 0.41130251 -0.54971852  0.37135493 -0.34778397 -0.51940506]\n",
      " [ 0.04709699  0.10460351 -0.76471022 -0.5937203  -0.22260832]\n",
      " [ 0.31193463  0.75420714  0.42328742 -0.39304333  0.01459729]\n",
      " [-0.4055618   0.30993989  0.03557682  0.28103138 -0.81191905]\n",
      " [ 0.75288016  0.14824478 -0.31124884  0.54136939 -0.14573364]]\n"
     ]
    }
   ],
   "source": [
    "# replace this with your solution\n",
    "\n",
    "features = 5\n",
    "\n",
    "def gen_data(examples, features, variance, mean):\n",
    "    mean_data = np.ones((examples,features)) * mean\n",
    "    var_data = np.random.randn(examples,features) * variance + mean_data\n",
    "    return var_data\n",
    "\n",
    "data = gen_data(100, features, 1, 1)\n",
    "plt.figure()\n",
    "plt.hist(data)\n",
    "plt.show()\n",
    "\n",
    "cov = np.cov(data.T) #covariance matrix between features\n",
    "#feature matrix is transposed as of default .cov() implementation\n",
    "print(\"Covariance matrix: \\n\", cov)\n",
    "\n",
    "eigval,eigvec = np.linalg.eigh(cov) #eigvec[:,i] is eigenvector of eigenvalue eigval[i]\n",
    "print(\"\\nEigenvalues:\",eigval,\"\\nEigenvectors: \\n\", eigvec)\n",
    "\n",
    "diag = np.zeros((len(eigval),len(eigval))) #diagonal matrix containing eigenvalues\n",
    "for i in range(len(eigval)):\n",
    "    diag[i,i] = eigval[i]\n",
    "\n",
    "print(\"Decomposition:\\n\",eigvec,\"\\n\",diag,\"\\n\",eigvec.T)\n"
   ]
  },
  {
   "cell_type": "markdown",
   "metadata": {},
   "source": [
    "Covariance matrices are an example of a class of matrices which are *positive semidefinite*. A matrix $A$ is called symmetric if $A_{ij}=A_{ji}$. Another way to say this is that $A=A^\\top$. A matrix $A\\in\\mathbb{R}^{n\\times n}$ is called **positive semidefinite**, if for all vectors $x\\in\\mathbb{R}^n$,\n",
    "$$\n",
    "    x^\\top A x \\geqslant 0.\n",
    "$$\n",
    "Show that the eigenvalues of a positive semidefinite matrix are non-negative."
   ]
  },
  {
   "cell_type": "markdown",
   "metadata": {},
   "source": [
    "### <span style=\"color:blue\">Answer</span>\n",
    "\n",
    "Eigenvalue equation of $A$:  \n",
    "$A v = \\lambda v$  \n",
    "where $v$ and $\\lambda$ are the eigenvector and eigenvalue of $A$ respectively.\n",
    "\n",
    "For $x^\\top A x \\geqslant 0$ where $x = v$, where $x$ is an eigenvector of $A$ and $\\lambda$ is its corresponding eigenvalue,  \n",
    "\\begin{align*}\n",
    "v^\\top \\lambda v &\\geqslant 0\\\\\n",
    "\\lambda &\\geqslant \\frac{1}{v^\\top v}\\\\\n",
    "\\lambda &\\geqslant \\frac{1}{||v||^{2}_{2}}\n",
    "\\end{align*}\n",
    "$||v||^{2}_{2}$ is always positive, therefore $\\lambda \\geqslant 0$. $\\square$\n",
    "\n",
    "Reference: https://math.stackexchange.com/questions/518890/prove-that-every-positive-semidefinite-matrix-has-nonnegative-eigenvalues\n",
    "\n",
    "Other references:\n",
    "- Use Spectral Decomposition? (http://theanalysisofdata.com/probability/C_4.html)\n",
    "- Compute determinant? (https://math.stackexchange.com/questions/1728199/determinant-of-positive-semidefinite)"
   ]
  },
  {
   "cell_type": "markdown",
   "metadata": {},
   "source": [
    "## Principal component analysis (PCA)\n",
    "\n",
    "You will see more about principal component analysis later in the course. For now, we will treat PCA as an exercise in matrix manipulation.\n",
    "\n",
    "The **Singular Values** of a square matrix $A$ is defined as the square root of the eigenvalues of $A^T A$. Given a matrix $X$, the singular value decomposition (SVD) is given by\n",
    "$$\n",
    "X = U S V^T\n",
    "$$\n",
    "where $U$ and $V$ are orthogonal matrices containing the left and right singular vectors respectively. And $S$ is a matrix with the singular values along the diagonal.\n",
    "\n",
    "Using the definition of the covariance matrix $C$:\n",
    "1. Substitute the singular value decomposition of $X$\n",
    "2. Simplify the resulting expression. You should have an expression of $C$ in terms of $U$ and $S$.\n",
    "3. Recall from Tutorial 2, the definition of an eigenvalue decomposition.\n",
    "4. What is the matrix that contains the eigenvectors corresponding to the $k$ largest eigenvalues of $C$?\n",
    "\n",
    "\n",
    "\n",
    "Recall that PCA considers the covariance matrix of a data matrix $X$. Using the definition of SVD above, derive expressions for:\n",
    "1. the eigenvectors\n",
    "2. the projection of $X$ onto the $k$ largest eigenvalues\n"
   ]
  },
  {
   "cell_type": "markdown",
   "metadata": {},
   "source": [
    "### <span style=\"color:blue\">Answer</span>\n",
    "\n",
    "Covariance matrix: $C = \\begin{bmatrix}\n",
    "    \\mathrm{cov}[X_{:,1}, X_{:,1}] & \\dots & \\mathrm{cov}[X_{:,1}, X_{:,D}]\\\\\n",
    "    \\vdots & \\ddots & \\vdots\\\\\n",
    "    \\mathrm{cov}[X_{:,D}, X_{:,1}] & \\dots & \\mathrm{cov}[X_{:,D}, X_{:,D}]\n",
    "    \\end{bmatrix}$\n",
    "\n",
    "https://math.stackexchange.com/questions/1101022/relation-between-covariance-matrix-and-svd-of-a-given-matrix  \n",
    "https://intoli.com/blog/pca-and-svd/  \n",
    "https://www.statlect.com/fundamentals-of-probability/covariance-matrix\n",
    "\n",
    "Assuming that mean of $X$ is centered:\n",
    "\n",
    "1. SVD for Covariance Matrix $C$ of Feature Matrix $X \\in \\mathbb{R}^{n \\times d}$, where there are $n$ datapoints and $d$ features:  \n",
    "\\begin{align*}\n",
    "    C &= \\frac{1}{N}X^{\\top}X \\\\\n",
    "    &= \\frac{1}{N}(USV^\\top)^{\\top}USV^\\top \\\\\n",
    "    &= \\frac{1}{N}VS^\\top U^\\top USV^\\top\\\\\n",
    "    &= \\frac{1}{N}VS^\\top S V^\\top\n",
    "\\end{align*}\n",
    "\n",
    "    If Feature Matrix $X \\in \\mathbb{R}^{d \\times n}$, where there are $n$ datapoints and $d$ features:\n",
    "\\begin{align*}\n",
    "    C &= \\frac{1}{N}XX^{\\top} \\\\\n",
    "    &= \\frac{1}{N}USV^\\top(USV^\\top)^{\\top} \\\\\n",
    "    &= \\frac{1}{N}USV^\\top VS^\\top U^\\top\\\\\n",
    "    &= \\frac{1}{N}USS^\\top U^\\top\n",
    "\\end{align*}\n",
    "\n",
    "Singular values of $X$ are the the square root of diagonal elements of $S^\\top S$, $\\sqrt{(S^\\top S)_{11}}, \\dots, \\sqrt{(S^\\top S)_{kk}}$, where $S \\in \\mathbb{R}^{k\\times k}$.\n",
    "\n",
    "Reference: https://www.youtube.com/watch?v=G16c2ZODcg8\n",
    "\n",
    "\n",
    "2. Eigenvalue Decomposition of Covariance Matrix $C$:\n",
    "    \\begin{align*}\n",
    "        C &= PDP^{-1}\n",
    "    \\end{align*}\n",
    "    where\n",
    "    $D = \\begin{bmatrix} \n",
    "    d_11 & 0 & \\dots & 0 \\\\\n",
    "    0 & \\ddots & & \\vdots \\\\\n",
    "    \\vdots & & \\ddots & 0 \\\\\n",
    "    0 & \\dots & 0 & d_{kk} \\\\\n",
    "    \\end{bmatrix}$,\n",
    "    $P = \\begin{bmatrix} \n",
    "    \\pmb p_1 & \\dots & \\pmb p_k\n",
    "    \\end{bmatrix}$, $d_{ii}$ is an eigenvalue of $C$ and $\\pmb p_i$ is its corresponding eigenvector.\n",
    "    \n",
    "    From previously computed SVD, $C = \\frac{1}{N}VS^\\top S V^\\top$. Therefore,  \n",
    "    \\begin{align*}\n",
    "        \\frac{1}{N}VS^\\top S V^\\top &= PDP^{-1}\n",
    "    \\end{align*}\n",
    "    "
   ]
  },
  {
   "cell_type": "markdown",
   "metadata": {},
   "source": [
    "## Implement PCA\n",
    "\n",
    "Implement the principal component analysis method, using ```numpy.linalg.svd```. Your function should take the data matrix and return two matrices:\n",
    "1. The projection of the data onto the principal components\n",
    "2. The actual components (eigenvectors) themselves.\n",
    "\n",
    "*Hint: do not forget to center the data by removing the mean*"
   ]
  },
  {
   "cell_type": "markdown",
   "metadata": {},
   "source": [
    "#### Note:\n",
    "$k$ largest eigenvalues of C are the principal components of dataset $X$.\n"
   ]
  },
  {
   "cell_type": "code",
   "execution_count": 9,
   "metadata": {},
   "outputs": [],
   "source": [
    "def PCA(X):\n",
    "    np.linalg.svd()\n",
    "    return None"
   ]
  },
  {
   "cell_type": "markdown",
   "metadata": {},
   "source": [
    "Use the code from Tutorial 1 to generate toy data with 100 samples in 5 dimensions. Recall that the data is from two Gaussians with unit variance, centered at $\\mathbf{1}$ and $-\\mathbf{1}$ respectively.\n",
    "\n",
    "Obtain the projection of the toy data to its first two principal components. Plot the results. You should be able to see that the first principal component already gives you the axis of discrimination. Revisit the question of the effect of dimension on two Gaussians with unit variance."
   ]
  },
  {
   "cell_type": "code",
   "execution_count": null,
   "metadata": {},
   "outputs": [],
   "source": [
    "# replace this with your solution, add and remove code and markdown cells as appropriate"
   ]
  },
  {
   "cell_type": "markdown",
   "metadata": {},
   "source": [
    "## (optional) Effect of normalisation on principal components\n",
    "\n",
    "The toy dataset is generated from spherical Gaussians. Explore the following effects on PCA:\n",
    "- Multiply each feature by a different scaling factor.\n",
    "- Write a new function for generating data from more than 2 Gaussians, placed at different locations.\n",
    "- Write a new function for generating data that generates Gaussians which are not spherical."
   ]
  },
  {
   "cell_type": "code",
   "execution_count": null,
   "metadata": {},
   "outputs": [],
   "source": [
    "# replace this with your solution, add and remove code and markdown cells as appropriate"
   ]
  },
  {
   "cell_type": "markdown",
   "metadata": {},
   "source": [
    "## Eigenfaces\n",
    "\n",
    "The aim of this section of the tutorial is to see that in some cases, the principal components can be human interpretable.\n",
    "\n",
    "The images below are of Colin Powell, resized to a smaller image, from [LFW](http://vis-www.cs.umass.edu/lfw/). Download the images from [the course website](https://machlearn.gitlab.io/isml2018/tutorials/lfw_colin.pkl)."
   ]
  },
  {
   "cell_type": "code",
   "execution_count": 10,
   "metadata": {},
   "outputs": [],
   "source": [
    "# Visualising images\n",
    "def plot_gallery(images, titles, h, w, n_row=2, n_col=6):\n",
    "    \"\"\"Helper function to plot a gallery of portraits\"\"\"\n",
    "    plt.figure(figsize=(1.8 * n_col, 2.4 * n_row))\n",
    "    plt.subplots_adjust(bottom=0, left=.01, right=.99, top=.90, hspace=.35)\n",
    "    for i in range(n_row * n_col):\n",
    "        plt.subplot(n_row, n_col, i + 1)\n",
    "        plt.imshow(images[i].reshape((h, w)), cmap=plt.cm.gray)\n",
    "        plt.title(titles[i], size=12)\n",
    "        plt.xticks(())\n",
    "        plt.yticks(())\n",
    "\n"
   ]
  },
  {
   "cell_type": "code",
   "execution_count": 11,
   "metadata": {},
   "outputs": [
    {
     "data": {
      "image/png": "[encoded data removed]",
      "text/plain": [
       "<Figure size 777.6x345.6 with 12 Axes>"
      ]
     },
     "metadata": {},
     "output_type": "display_data"
    }
   ],
   "source": [
    "lfw_colin = pickle.load(open('lfw_colin.pkl', 'rb'))\n",
    "\n",
    "# introspect the images array to find the shapes (for plotting)\n",
    "n_samples, h, w = lfw_colin['images'].shape\n",
    "plot_gallery(lfw_colin['images'], range(n_samples), h, w)\n"
   ]
  },
  {
   "cell_type": "markdown",
   "metadata": {},
   "source": [
    "Use the ```pca``` function you wrote above to find the first 15 principal components. Visualise them. Discuss what the components potentially capture, for example lighting from the right.\n",
    "\n",
    "*Hint: Images need to be converted into a vector for PCA, and the results need to be converted back*"
   ]
  },
  {
   "cell_type": "code",
   "execution_count": null,
   "metadata": {},
   "outputs": [],
   "source": [
    "# replace this with your solution, add and remove code and markdown cells as appropriate"
   ]
  },
  {
   "cell_type": "code",
   "execution_count": null,
   "metadata": {},
   "outputs": [],
   "source": []
  }
 ],
 "metadata": {
  "kernelspec": {
   "display_name": "Python 3",
   "language": "python",
   "name": "python3"
  },
  "language_info": {
   "codemirror_mode": {
    "name": "ipython",
    "version": 3
   },
   "file_extension": ".py",
   "mimetype": "text/x-python",
   "name": "python",
   "nbconvert_exporter": "python",
   "pygments_lexer": "ipython3",
   "version": "3.6.7"
  }
 },
 "nbformat": 4,
 "nbformat_minor": 1
}
